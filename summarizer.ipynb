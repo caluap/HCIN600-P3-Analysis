{
 "cells": [
  {
   "cell_type": "code",
   "execution_count": 1,
   "metadata": {
    "collapsed": true
   },
   "outputs": [],
   "source": [
    "import json\n",
    "\n",
    "f = open('dump.json', 'r')\n",
    "\n",
    "data = json.load(f)['real_data']\n",
    "f.close()\n",
    "\n",
    "del data['Zd6MSPC7S9haRl7Nh0hlqKFr9xN2']"
   ]
  },
  {
   "cell_type": "code",
   "execution_count": 2,
   "metadata": {
    "collapsed": true
   },
   "outputs": [],
   "source": [
    "def count_frequency(my_list):\n",
    "  freq = {}\n",
    "  t = 0\n",
    "\n",
    "  for item in my_list:\n",
    "      if item in freq:\n",
    "          freq[item] += 1\n",
    "      else:\n",
    "          freq[item] = 1\n",
    "      t += 1\n",
    "\n",
    "  return freq, t"
   ]
  },
  {
   "cell_type": "code",
   "execution_count": 3,
   "metadata": {
    "scrolled": false
   },
   "outputs": [
    {
     "name": "stdout",
     "output_type": "stream",
     "text": [
      "98\n"
     ]
    }
   ],
   "source": [
    "effectively_finished = 0\n",
    "for p in data:\n",
    "  if 'general_data' in data[p] and data[p]['general_data']['effectively_finished'] == True:\n",
    "      effectively_finished += 1\n",
    "      \n",
    "print(effectively_finished)"
   ]
  },
  {
   "cell_type": "code",
   "execution_count": 4,
   "metadata": {},
   "outputs": [
    {
     "name": "stdout",
     "output_type": "stream",
     "text": [
      "1. Student  - Information management, ergonomic  / 0m50ujE6EIOHK41uPHJRjMNmKeH3\n",
      "2. theater director - theater / 2NvMbAXa8ffC547s9A7GPm19kVZ2\n",
      "3. Corporate finance - Economics / 2TjicRWC1xUY3YqtYMcGvbhFKoH2\n",
      "4. Software Engineer - Computer Science, Formal Methods / 2v9X1JtzJxeNG1Iv9wbME6c6nh12\n",
      "5. handicapped - construction / 3qsB03tkiKU4VWhO3sLaVt7v62p1\n",
      "6. student - design / 4LK4iQQqzaa56NaypfVUjpoLJZh2\n",
      "7. Allopathic physician - medicine  / 691HWfI1YAaqydDMTI0daT2LrK52\n",
      "8.  - Psychology, Counseling / 6GmS5bxbEXazVPh4xAZGAniqoGB2\n",
      "9. none - n/a / 7ARYleq6DlajzbXDsXYGT1jfuIC3\n",
      "10. Support analyst - computer science, internet of things security / 7usjYmyINDa2RkI5mbG7RexRRls1\n",
      "11. Doctoral Student - Science and Technology Studies, electronic medical records / 7vFYoSq1eZXheHWRZOezKKiuBrS2\n",
      "12. Student - Environmental management, entomology / 7zeZfXvJ5TPpsGpikgE3HJjjtWD2\n",
      "13. WORKING + STUDING - PHARMACY / 8E9NIKKY6wbjrQOV4FfyDYhX9Di2\n",
      "14. student - electrical engineering / 8SZfrg2tYaTnjYIOT9hvH7gyDqg1\n",
      "15. ### submitted blank ###\n",
      "16. Homemaker - Human Services / A0reARni3pP5U4Jz8wj8JRvKlBn2\n",
      "17. ### submitted blank ###\n",
      "18. Student - Social Sciences / BF7Yoh09vrZVcvyT2oml9foeezG3\n",
      "19. Unemployed - N/A / Bt25QfpcMKPEohFSVBr3TpOyTOJ3\n",
      "20. Analyst - Financial Markets / DHY8p6XSbTcEIc9ftQtvjD3MKt33\n",
      "21. Medical laboratory technician  - Genetics / DXcUUprf3IfLwphoDuhFqP78N2D3\n",
      "22. Student - Engineering, Materials Science / Du9IpRgDkkcsIu5wy7FOWoCF3uP2\n",
      "23. ### submitted blank ###\n",
      "24. 1st grade teacher - Elementary Education / FZz1BdrjrPfyJqyaNTddccbLo5a2\n",
      "25. Cashier - Art, design, programming, web design / FhRXASikXkf4lV7qy0XOBL7X1Og2\n",
      "26. ### submitted blank ###\n",
      "27. video editor - anthropolgy, indigenism, cosmopolitics / GgALRICoOBQgGp7l8ESFfe5xdnG3\n",
      "28. student / GwCrVaHUsZZMKAdiZBMlSBHx5dS2\n",
      "29. Insurance agent team member - Multiple. Background in molecular and cellular biology; background in animal science; current FOS insurance, auto and home. / HDSFBV87QtXLd0cyypzXgjwt3y62\n",
      "30. Software Developer - Engineering / Hd3IQvoMttPj0HtNgjKGD0SLho13\n",
      "31. Student - Computer science, Data science / IO1iBXUyCRTvaLuddjD7ALtXYyS2\n",
      "32. Student - Animation / Ijxz343ezRQSirRVmbFIWnr5r992\n",
      "33. Software engineer - Computer science, cryptography / JOzu2avezAdyoFSpOWznq9xvcrN2\n",
      "34. student - pharmacy / KQlqwF444dNlmUV20DNQk2lMik22\n",
      "35. Software Engineer - Computer Science, Computer Graphics / KnIHGHUrbEaanAOvnlJOE5Ytovy1\n",
      "36. application scientist - nonlinear optics/ polymer physics / LZ0QKkeYx9aql4tEaubln89IOTj2\n",
      "37. Buyer / Ligl1s5CxqcxA5uAWn34AvbEV0r1\n",
      "38. ### submitted blank ###\n",
      "39. UX Research Scientist - Computer Science, Human Computer Interaction / OeSL223xn4Rf1GTeHSFytVEuQ9H3\n",
      "40. Student - Data Science / P4cy6ZzfAsOfdLcAUxAQl7YpcKv2\n",
      "41. Photographer - Communication / PDS5Fw4MR5PhQJketzOJQLwfcZ82\n",
      "42. Student - Computer science / Pw4aGNKuw2Qm158hgphGuNWZmHy2\n",
      "43. ### submitted blank ###\n",
      "44.  - Computer science, user experience / Qns1Mx3f69MSbaBclbk7wtucF9N2\n",
      "45. ### submitted blank ###\n",
      "46. ### submitted blank ###\n",
      "47. ### submitted blank ###\n",
      "48. programmer - arts, fine arts / TZJpeLdtbpeIpQpdEglEFpIP53X2\n",
      "49. Graduate student - Biology, Human Genetics, Bioinformatics / UPAloBEs7KhdHu2sJeq7oIOUzxZ2\n",
      "50. Unemployed - Unsure / V4c5A2zO5OftqR7giMqdC6IldIs2\n",
      "51. student - engineering, robotics / VUyAPjb58Ye2N9R998eLWtP0Mm62\n",
      "52.  - International Relations / WWvjjezCdXOf4JxebmP3tiA2Z4y1\n",
      "53. ### submitted blank ###\n",
      "54. Software developer - Back-end web development / YbxnxWS3BSMUUHr1YObt5MIsQHO2\n",
      "55. Teacher who plans to enter academia - Sociology, psychology  / YmRWDsxKj9gOCPuAYsLR0Pantjj1\n",
      "56. Research Coordinator - Sarcoma / ZSVlcSWbhKe312MdIWNgzXYJ81O2\n",
      "57. Programmer Analyst - SQL development, Application integrations / aNJ8qIMiQWNe0tBOJ0kLluEGmPm2\n",
      "58. Medical transcriptionist - Technical communication / aW57hAo2gNc2Lc13aegyJsfGTSQ2\n",
      "59. Student - Medicine / bRAKbpI5UVWie7ufL5gSOSosSze2\n",
      "60. Student - Art, Graphics / bWuTE29UlYUxRlt6cjsO4seQ3at1\n",
      "61. ### submitted blank ###\n",
      "62. Higher Education/Registrar - Education, Leadership in Higher Education / dEkfHM0PxHWsSrzfHAL3lbehaOA3\n",
      "63. College student - Communications, Comedy / dFwXd0uiV2RGaPsStdDdBQUCfP32\n",
      "64. Product designer - Design + HCI / dcbXrKCXmUXBDWWrVkEICZ723kA2\n",
      "65. ### submitted blank ###\n",
      "66. UX Designer - User experience / dy8IUmib5nPvZVqbBl6F8vCxPtI2\n",
      "67. ### submitted blank ###\n",
      "68. Student - Accounting / eqJhHeDgmSYUYhb6pS4wveo6Ntn2\n",
      "69. Student - English Education/TESOL / fGIoovOZ8CQKlUGkCOqc9aoggfH3\n",
      "70. Product manager - Visual communication / gscJa3ef4oYVPdpMGUQ0Otb32Uo1\n",
      "71. Manager software development - Applied mathematics & business engineering / h4GA0lr10bR6c92n0JVJcbengX42\n",
      "72. Student - biological sciences / hpNxIKJ5TIfz0f0JGArzucr09Hk2\n",
      "73. Student - Mathematics and Physical Chemistry / jtx4s0FlbwftnUmH2GTn2IAbrBt2\n",
      "74. Student - Packaging Science / kDq5U2M4fYhozDTZljAbWRc58R03\n",
      "75. Student - Materials engineering  / kanuvW2qUnTSjR8pQxBDBlnHcaa2\n",
      "76. Database Administrator  - Information Sciences / kzlAybgJdgRUbUJblu7ait0cdTe2\n",
      "77. Civil engineer - Engineering / m1LF2YgACaSenxVn1vdYXVDEnA73\n",
      "78. Software Engineer - Computer Science, Computer Engineering / mgvVQHCO7SafvbYnqGlKUSzf6Vp1\n",
      "79. ### submitted blank ###\n",
      "80. Student - Sustainable Engineering / pCg2HeQP5nMHKWxzfsWJDSqilmh2\n",
      "81. Substitute Teacher - Media Arts, Philosophy, Bible, Rhetoric / pQ4EmdfDSsU57km5X54a0Geta672\n",
      "82. ### submitted blank ###\n",
      "83.  - Design/editing for an archeological consultant firm / peJf6fQASjSzOzFXuO6L7m5QoLa2\n",
      "84. ### submitted blank ###\n",
      "85. ### submitted blank ###\n",
      "86. Disabled  / tC1R8UgF7EW36YlqeX3rFK5bvN82\n",
      "87. Education assistant  - Psychology, counselling/education / tElv4KucQqVmWh4fu1zE9NJ2l8p1\n",
      "88. Student - Political Science / tqXB762R1thBhmTU5sDxf4mDbXe2\n",
      "89. Programmer - Software Architecture / u17gZV1LsxfecLMmL271H9tt9I62\n",
      "90. ### submitted blank ###\n",
      "91. Student - Biochemistry / upQqHlxpUpO0RoVIWwQ1ZSjbSVt2\n",
      "92.  - Environmental Science / vYTKk64bkMSwuaQKKmotgdCWsRs2\n",
      "93. Investments Intern - Computer Science, Physics / vpBcCE8wHJbdTSmOsvjNJudlDzt2\n",
      "94. Data Management  - Buisness administration  / w05SdkJPprgV0NrLhNifEEkDeGw2\n",
      "95. Freelancer - IT / wCTaa1VBjPcW7LZi3rZSaHe8P5g2\n",
      "96. Student - Management science / yUPFkpEsdWR4CfjqcOoWYFcHoiy1\n",
      "97. Sales person - Foreign Language and Literature / ymO4q24tkqWaUrEz5Yy5k9SzSVw2\n",
      "98. Admin Assistant - Library Science / zDcPRgYz0mSj0nq6h9l3LalRYvH3\n"
     ]
    }
   ],
   "source": [
    "occupation_field_of_study = []\n",
    "for p in data:\n",
    "  if 'general_data' in data[p] and data[p]['general_data']['effectively_finished']:\n",
    "    temp = data[p]['general_data']['about_the_participant']\n",
    "      \n",
    "    s = \"\"\n",
    "\n",
    "    if temp['occupation']:\n",
    "      s += temp['occupation']\n",
    "      \n",
    "    if temp['field_of_study']:\n",
    "      s += f\" - {temp['field_of_study']}\"\n",
    "    \n",
    "    if s != '':\n",
    "      occupation_field_of_study.append(s + ' / ' + p)\n",
    "    else:\n",
    "      occupation_field_of_study.append('### submitted blank ###')\n",
    "      \n",
    "for i in range(len(occupation_field_of_study)):\n",
    "  print(f\"{i+1}. {occupation_field_of_study[i]}\")"
   ]
  },
  {
   "cell_type": "code",
   "execution_count": 5,
   "metadata": {},
   "outputs": [
    {
     "name": "stdout",
     "output_type": "stream",
     "text": [
      "{'Master’s or equivalent level': 28, 'Bachelor’s or equivalent level': 43, 'Doctor or equivalent level': 4, '学士或同等水平': 1, 'High school or lower': 19, 'I’d rather not answer this': 3}\n"
     ]
    }
   ],
   "source": [
    "ed = []\n",
    "for p in data:\n",
    "  if 'general_data' in data[p] and data[p]['general_data']['effectively_finished']:\n",
    "    temp = data[p]['general_data']['about_the_participant']['education']\n",
    "    if temp:\n",
    "        ed.append(temp)\n",
    "      \n",
    "fr_ed, _ = count_frequency(ed)\n",
    "print(fr_ed)"
   ]
  },
  {
   "cell_type": "code",
   "execution_count": 6,
   "metadata": {},
   "outputs": [
    {
     "name": "stdout",
     "output_type": "stream",
     "text": [
      "{'18 to 24 years': 36, '45 to 54 years': 6, '25 to 34 years': 40, '35 to 44 years': 12, '54 to 64 years': 2, '25 至 34 岁': 1, 'I’d rather not answer this': 1}\n"
     ]
    }
   ],
   "source": [
    "ag = []\n",
    "for p in data:\n",
    "  if 'general_data' in data[p] and data[p]['general_data']['effectively_finished']:\n",
    "    temp = data[p]['general_data']['about_the_participant']['age_group']\n",
    "    if temp:\n",
    "      ag.append(temp)\n",
    "      \n",
    "fr_ag, _ = count_frequency(ag)\n",
    "print(fr_ag)"
   ]
  },
  {
   "cell_type": "code",
   "execution_count": 7,
   "metadata": {},
   "outputs": [
    {
     "name": "stdout",
     "output_type": "stream",
     "text": [
      "{'Feminine': 43, 'Masculine': 49, '男性': 1, 'Non-binary': 2, 'I’d rather not answer this': 3}\n"
     ]
    }
   ],
   "source": [
    "\n",
    "ge = []\n",
    "for p in data:\n",
    "  if 'general_data' in data[p] and data[p]['general_data']['effectively_finished']:\n",
    "    temp = data[p]['general_data']['about_the_participant']['gender']\n",
    "    if temp:\n",
    "        ge.append(temp)\n",
    "      \n",
    "fr_ge, _ = count_frequency(ge)\n",
    "print(fr_ge)"
   ]
  },
  {
   "cell_type": "code",
   "execution_count": 8,
   "metadata": {},
   "outputs": [
    {
     "name": "stdout",
     "output_type": "stream",
     "text": [
      "1. This was a fun survey to complete. There is some unusual language/grammar so you may want to have a native English speaker review it.  / 2NvMbAXa8ffC547s9A7GPm19kVZ2\n",
      "\n",
      "2. That was tough! I know about some of these, but the ones I thought I knew may very well be factoids, too.  / 2v9X1JtzJxeNG1Iv9wbME6c6nh12\n",
      "\n",
      "3. so was this about the fonts?\n",
      "some of the questions didn't really fit with the tru/false scheme, as they either contained words like can and may or were subjective statements / 7ARYleq6DlajzbXDsXYGT1jfuIC3\n",
      "\n",
      "4. Not all the sentences made sense, I'm sure that many of them weren't meant to. There was one or two where I thought it might be mistranslation, or non-native English speaker syntax. I am not a native speaker, myself, either, however :) also I have Covid right now / 7zeZfXvJ5TPpsGpikgE3HJjjtWD2\n",
      "\n",
      "5. I feel like its gonna be the structure of the sentences that influences what we think is more likely to be true / 8E9NIKKY6wbjrQOV4FfyDYhX9Di2\n",
      "\n",
      "6. a lot of my answers are based on facts I already know like, I know some sharks cant sleep so I just felt more inclined to pick whales can swim while sleeping because it felt related to a true fact / Bt25QfpcMKPEohFSVBr3TpOyTOJ3\n",
      "\n",
      "7. Some of these are \"actually\" pretty tough! I didn't fact-check statements, so I probably didn't do particularly well... But I feel as though the answer to combat this sort of problem is to teach people how to find the correct answer using credible sources.  / HDSFBV87QtXLd0cyypzXgjwt3y62\n",
      "\n",
      "8. Some of these \"facts\" I already knew the answers to.\n",
      "\n",
      "If the purpose was to gauge believability, it would be better to post two completely untrue facts side-by-side. It was hard to gauge what \"sounds\" true vs. what I knew was actually true. / Hd3IQvoMttPj0HtNgjKGD0SLho13\n",
      "\n",
      "9. It's hard to know which one is correct, the only thing I can do is guess which one looks more true. / IO1iBXUyCRTvaLuddjD7ALtXYyS2\n",
      "\n",
      "10. Some of those comparisons seemed like both should be true! / LZ0QKkeYx9aql4tEaubln89IOTj2\n",
      "\n",
      "11. interesting / NjCG1CIKqlRz5kUd60OClA7LpFw2\n",
      "\n",
      "12. For most of them I had to resist my urge to Google search to check the facts / OeSL223xn4Rf1GTeHSFytVEuQ9H3\n",
      "\n",
      "13. Some of the statements had slightly confusing grammar. It might be beneficial to have more proofreaders in the future. Loved the trivia facts. / Qns1Mx3f69MSbaBclbk7wtucF9N2\n",
      "\n",
      "14. The language barrier (small grammatical errors in the translation to English — I am a native English speaker) did affect my choices to a small extent; I’m not sure if this was intentional. My problem with many of these statements is that I’d need to see operational definitions of the terms before I could evaluate the veracity. Good luck! / YmRWDsxKj9gOCPuAYsLR0Pantjj1\n",
      "\n",
      "15. I answered these with the assumption (since I didn't read it explicitly) that I was not supposed to check for which was the correct answer, just which one felt more real. / aNJ8qIMiQWNe0tBOJ0kLluEGmPm2\n",
      "\n",
      "16. I wish I knew which ones I got right! Interesting what you were doing with fonts. I feel like I trust serifs more so I was wondering if that was the experiment, so I paid more attention to the sanserifs. I wonder if that ruined my results? Good luck with your project :)  / gscJa3ef4oYVPdpMGUQ0Otb32Uo1\n",
      "\n",
      "17. I tried not to let the font choice influence my answers but I was probably subconsciously influenced anyway. Also please don’t use the word esk*mo! / jtx4s0FlbwftnUmH2GTn2IAbrBt2\n",
      "\n",
      "18. survey tech is annoying and slow. / mgvVQHCO7SafvbYnqGlKUSzf6Vp1\n",
      "\n",
      "19. Fonts! / nC36Okrom1M64tsMevhvIjwr4uq2\n",
      "\n",
      "20. Found out that I find statements in serif font and in bold seem to be more truthful. Also a bunch of these are hard to choose because I know that both statements were true/ false.  / qVENC4LBj9U9xCblVDNpJAHmVvI2\n",
      "\n",
      "21. Some questions were super obvious such as the planet one I'd obviously false of talking about in existence but possibly true if talking about in galaxy. Almost all needed context / w05SdkJPprgV0NrLhNifEEkDeGw2\n",
      "\n",
      "22. Great / yUPFkpEsdWR4CfjqcOoWYFcHoiy1\n",
      "\n"
     ]
    }
   ],
   "source": [
    "\n",
    "ope = []\n",
    "for p in data:\n",
    "  if 'general_data' in data[p]:\n",
    "    temp = data[p]['general_data']['open_ended_answer']\n",
    "    if temp:\n",
    "      ope.append(temp + ' / ' + p)\n",
    "      \n",
    "for i in range(len(ope)):\n",
    "  print(f\"{i+1}. {ope[i]}\\n\")"
   ]
  },
  {
   "cell_type": "markdown",
   "metadata": {},
   "source": [
    "# Fonts summary"
   ]
  },
  {
   "cell_type": "code",
   "execution_count": 9,
   "metadata": {
    "collapsed": true
   },
   "outputs": [],
   "source": [
    "fonts = {\n",
    "  'Jenson':'Serif',\n",
    "  'Baskerville':'Serif',\n",
    "  'Bodoni':'Serif',\n",
    "  'Clarendon':'Serif',\n",
    "  'Franklin Gothic':'Sans',\n",
    "  'Helvetica':'Sans',\n",
    "  'Scala Sans':'Sans',\n",
    "  'Futura':'Sans',\n",
    "  'Comic Neue':'Script'\n",
    "  }\n",
    "\n",
    "font_names = [\n",
    "  'Jenson',\n",
    "  'Baskerville',\n",
    "  'Bodoni',\n",
    "  'Clarendon',\n",
    "  'Franklin Gothic',\n",
    "  'Helvetica',\n",
    "  'Scala Sans',\n",
    "  'Futura',\n",
    "  'Comic Neue'\n",
    "]"
   ]
  },
  {
   "cell_type": "code",
   "execution_count": 10,
   "metadata": {},
   "outputs": [
    {
     "name": "stdout",
     "output_type": "stream",
     "text": [
      "total answers: 2732\n",
      "\n",
      "\n",
      "{'Franklin Gothic': 311, 'Clarendon': 312, 'Jenson': 283, 'Bodoni': 308, 'Futura': 298, 'Comic Neue': 313, 'Baskerville': 316, 'Scala Sans': 279, 'Helvetica': 312}\n",
      "Franklin Gothic - 11.38\n",
      "Clarendon - 11.42\n",
      "Jenson - 10.36\n",
      "Bodoni - 11.27\n",
      "Futura - 10.91\n",
      "Comic Neue - 11.46\n",
      "Baskerville - 11.57\n",
      "Scala Sans - 10.21\n",
      "Helvetica - 11.42\n",
      "\n",
      "\n",
      "\n",
      "{'Sans': 1200, 'Serif': 1219, 'Script': 313}\n",
      "Sans - 43.92\n",
      "Serif - 44.62\n",
      "Script - 11.46\n"
     ]
    }
   ],
   "source": [
    "font_frequency = []\n",
    "category_frequency = []\n",
    "c = 0\n",
    "for p in data:\n",
    "  if 'general_data' in data[p] and data[p]['general_data']['effectively_finished']:\n",
    "    for answer in data[p]['answers']:\n",
    "      font_frequency.append(answer['selected_option']['font']['font_family'])\n",
    "      category_frequency.append(fonts[answer['selected_option']['font']['font_family']])\n",
    "      c += 1\n",
    "\n",
    "print(f\"total answers: {c}\\n\\n\")\n",
    "      \n",
    "f_f, _ = count_frequency(font_frequency)\n",
    "print(f_f)\n",
    "\n",
    "for font in f_f:\n",
    "  print(f\"{font} - {round(10000*f_f[font]/c)/100}\")\n",
    "  \n",
    "print(\"\\n\\n\")\n",
    "  \n",
    "cat_f, _ = count_frequency(category_frequency)\n",
    "print(cat_f)\n",
    "\n",
    "for cat in cat_f:\n",
    "  print(f\"{cat} - {round(10000*cat_f[cat]/c)/100}\")"
   ]
  },
  {
   "cell_type": "code",
   "execution_count": 11,
   "metadata": {},
   "outputs": [
    {
     "name": "stdout",
     "output_type": "stream",
     "text": [
      "individual fonts\n",
      "Power_divergenceResult(statistic=5.001464128843338, pvalue=0.7574196333836671)\n",
      "\n",
      "\n",
      "font categories\n",
      "Power_divergenceResult(statistic=0.4792276720351391, pvalue=0.7869316870736285)\n"
     ]
    }
   ],
   "source": [
    "from scipy.stats import chisquare\n",
    "\n",
    "frequencies = []\n",
    "for font in font_names:\n",
    "  frequencies.append(f_f[font])\n",
    "\n",
    "print(\"individual fonts\")\n",
    "print(chisquare(frequencies))\n",
    "\n",
    "\n",
    "\n",
    "\n",
    "print(\"\\n\\nfont categories\")\n",
    "print(chisquare([cat_f['Serif'], cat_f['Sans'], cat_f['Script']], f_exp=[c*4/9, c*4/9, c*1/9]))\n",
    "\n"
   ]
  }
 ],
 "metadata": {
  "kernelspec": {
   "display_name": "Python 3",
   "language": "python",
   "name": "python3"
  },
  "language_info": {
   "codemirror_mode": {
    "name": "ipython",
    "version": 3
   },
   "file_extension": ".py",
   "mimetype": "text/x-python",
   "name": "python",
   "nbconvert_exporter": "python",
   "pygments_lexer": "ipython3",
   "version": "3.6.2"
  }
 },
 "nbformat": 4,
 "nbformat_minor": 2
}
