{
 "cells": [
  {
   "cell_type": "code",
   "execution_count": 1,
   "metadata": {
    "collapsed": true
   },
   "outputs": [],
   "source": [
    "import json\n",
    "\n",
    "f = open('dump.json', 'r')\n",
    "\n",
    "data = json.load(f)['real_data']\n",
    "f.close()\n",
    "\n",
    "del data['Zd6MSPC7S9haRl7Nh0hlqKFr9xN2']"
   ]
  },
  {
   "cell_type": "code",
   "execution_count": 2,
   "metadata": {
    "collapsed": true
   },
   "outputs": [],
   "source": [
    "def count_frequency(my_list):\n",
    "  freq = {}\n",
    "  t = 0\n",
    "\n",
    "  for item in my_list:\n",
    "      if item in freq:\n",
    "          freq[item] += 1\n",
    "      else:\n",
    "          freq[item] = 1\n",
    "      t += 1\n",
    "\n",
    "  return freq, t"
   ]
  },
  {
   "cell_type": "code",
   "execution_count": 3,
   "metadata": {
    "scrolled": false
   },
   "outputs": [
    {
     "name": "stdout",
     "output_type": "stream",
     "text": [
      "80\n"
     ]
    }
   ],
   "source": [
    "effectively_finished = 0\n",
    "for p in data:\n",
    "  if 'general_data' in data[p] and data[p]['general_data']['effectively_finished'] == True:\n",
    "      effectively_finished += 1\n",
    "      \n",
    "print(effectively_finished)"
   ]
  },
  {
   "cell_type": "code",
   "execution_count": 4,
   "metadata": {},
   "outputs": [
    {
     "name": "stdout",
     "output_type": "stream",
     "text": [
      "1. theater director - theater / 2NvMbAXa8ffC547s9A7GPm19kVZ2\n",
      "2. Corporate finance - Economics / 2TjicRWC1xUY3YqtYMcGvbhFKoH2\n",
      "3. Software Engineer - Computer Science, Formal Methods / 2v9X1JtzJxeNG1Iv9wbME6c6nh12\n",
      "4. handicapped - construction / 3qsB03tkiKU4VWhO3sLaVt7v62p1\n",
      "5. student - design / 4LK4iQQqzaa56NaypfVUjpoLJZh2\n",
      "6.  - Psychology, Counseling / 6GmS5bxbEXazVPh4xAZGAniqoGB2\n",
      "7. none - n/a / 7ARYleq6DlajzbXDsXYGT1jfuIC3\n",
      "8. Support analyst - computer science, internet of things security / 7usjYmyINDa2RkI5mbG7RexRRls1\n",
      "9. Doctoral Student - Science and Technology Studies, electronic medical records / 7vFYoSq1eZXheHWRZOezKKiuBrS2\n",
      "10. Student - Environmental management, entomology / 7zeZfXvJ5TPpsGpikgE3HJjjtWD2\n",
      "11. WORKING + STUDING - PHARMACY / 8E9NIKKY6wbjrQOV4FfyDYhX9Di2\n",
      "12. student - electrical engineering / 8SZfrg2tYaTnjYIOT9hvH7gyDqg1\n",
      "13. Homemaker - Human Services / A0reARni3pP5U4Jz8wj8JRvKlBn2\n",
      "14. ### submitted blank ###\n",
      "15. Student - Social Sciences / BF7Yoh09vrZVcvyT2oml9foeezG3\n",
      "16. Unemployed - N/A / Bt25QfpcMKPEohFSVBr3TpOyTOJ3\n",
      "17. Analyst - Financial Markets / DHY8p6XSbTcEIc9ftQtvjD3MKt33\n",
      "18. Student - Engineering, Materials Science / Du9IpRgDkkcsIu5wy7FOWoCF3uP2\n",
      "19. ### submitted blank ###\n",
      "20. Cashier - Art, design, programming, web design / FhRXASikXkf4lV7qy0XOBL7X1Og2\n",
      "21. ### submitted blank ###\n",
      "22. video editor - anthropolgy, indigenism, cosmopolitics / GgALRICoOBQgGp7l8ESFfe5xdnG3\n",
      "23. Insurance agent team member - Multiple. Background in molecular and cellular biology; background in animal science; current FOS insurance, auto and home. / HDSFBV87QtXLd0cyypzXgjwt3y62\n",
      "24. Software Developer - Engineering / Hd3IQvoMttPj0HtNgjKGD0SLho13\n",
      "25. Student - Animation / Ijxz343ezRQSirRVmbFIWnr5r992\n",
      "26. Software engineer - Computer science, cryptography / JOzu2avezAdyoFSpOWznq9xvcrN2\n",
      "27. student - pharmacy / KQlqwF444dNlmUV20DNQk2lMik22\n",
      "28. Software Engineer - Computer Science, Computer Graphics / KnIHGHUrbEaanAOvnlJOE5Ytovy1\n",
      "29. application scientist - nonlinear optics/ polymer physics / LZ0QKkeYx9aql4tEaubln89IOTj2\n",
      "30. Buyer / Ligl1s5CxqcxA5uAWn34AvbEV0r1\n",
      "31. ### submitted blank ###\n",
      "32. UX Research Scientist - Computer Science, Human Computer Interaction / OeSL223xn4Rf1GTeHSFytVEuQ9H3\n",
      "33. Student - Data Science / P4cy6ZzfAsOfdLcAUxAQl7YpcKv2\n",
      "34. Photographer - Communication / PDS5Fw4MR5PhQJketzOJQLwfcZ82\n",
      "35. Student - Computer science / Pw4aGNKuw2Qm158hgphGuNWZmHy2\n",
      "36. ### submitted blank ###\n",
      "37.  - Computer science, user experience / Qns1Mx3f69MSbaBclbk7wtucF9N2\n",
      "38. ### submitted blank ###\n",
      "39. ### submitted blank ###\n",
      "40. programmer - arts, fine arts / TZJpeLdtbpeIpQpdEglEFpIP53X2\n",
      "41. Graduate student - Biology, Human Genetics, Bioinformatics / UPAloBEs7KhdHu2sJeq7oIOUzxZ2\n",
      "42. Unemployed - Unsure / V4c5A2zO5OftqR7giMqdC6IldIs2\n",
      "43. student - engineering, robotics / VUyAPjb58Ye2N9R998eLWtP0Mm62\n",
      "44.  - International Relations / WWvjjezCdXOf4JxebmP3tiA2Z4y1\n",
      "45. ### submitted blank ###\n",
      "46. Software developer - Back-end web development / YbxnxWS3BSMUUHr1YObt5MIsQHO2\n",
      "47. Teacher who plans to enter academia - Sociology, psychology  / YmRWDsxKj9gOCPuAYsLR0Pantjj1\n",
      "48. Research Coordinator - Sarcoma / ZSVlcSWbhKe312MdIWNgzXYJ81O2\n",
      "49. Programmer Analyst - SQL development, Application integrations / aNJ8qIMiQWNe0tBOJ0kLluEGmPm2\n",
      "50. Medical transcriptionist - Technical communication / aW57hAo2gNc2Lc13aegyJsfGTSQ2\n",
      "51. Student - Medicine / bRAKbpI5UVWie7ufL5gSOSosSze2\n",
      "52. Higher Education/Registrar - Education, Leadership in Higher Education / dEkfHM0PxHWsSrzfHAL3lbehaOA3\n",
      "53. College student - Communications, Comedy / dFwXd0uiV2RGaPsStdDdBQUCfP32\n",
      "54. UX Designer - User experience / dy8IUmib5nPvZVqbBl6F8vCxPtI2\n",
      "55. ### submitted blank ###\n",
      "56. Student - Accounting / eqJhHeDgmSYUYhb6pS4wveo6Ntn2\n",
      "57. Student - English Education/TESOL / fGIoovOZ8CQKlUGkCOqc9aoggfH3\n",
      "58. Product manager - Visual communication / gscJa3ef4oYVPdpMGUQ0Otb32Uo1\n",
      "59. Manager software development - Applied mathematics & business engineering / h4GA0lr10bR6c92n0JVJcbengX42\n",
      "60. Student - Packaging Science / kDq5U2M4fYhozDTZljAbWRc58R03\n",
      "61. Student - Materials engineering  / kanuvW2qUnTSjR8pQxBDBlnHcaa2\n",
      "62. Database Administrator  - Information Sciences / kzlAybgJdgRUbUJblu7ait0cdTe2\n",
      "63. Civil engineer - Engineering / m1LF2YgACaSenxVn1vdYXVDEnA73\n",
      "64. Software Engineer - Computer Science, Computer Engineering / mgvVQHCO7SafvbYnqGlKUSzf6Vp1\n",
      "65. ### submitted blank ###\n",
      "66. Student - Sustainable Engineering / pCg2HeQP5nMHKWxzfsWJDSqilmh2\n",
      "67. Substitute Teacher - Media Arts, Philosophy, Bible, Rhetoric / pQ4EmdfDSsU57km5X54a0Geta672\n",
      "68. ### submitted blank ###\n",
      "69.  - Design/editing for an archeological consultant firm / peJf6fQASjSzOzFXuO6L7m5QoLa2\n",
      "70. ### submitted blank ###\n",
      "71. Education assistant  - Psychology, counselling/education / tElv4KucQqVmWh4fu1zE9NJ2l8p1\n",
      "72. Student - Political Science / tqXB762R1thBhmTU5sDxf4mDbXe2\n",
      "73. Programmer - Software Architecture / u17gZV1LsxfecLMmL271H9tt9I62\n",
      "74. Student - Biochemistry / upQqHlxpUpO0RoVIWwQ1ZSjbSVt2\n",
      "75.  - Environmental Science / vYTKk64bkMSwuaQKKmotgdCWsRs2\n",
      "76. Investments Intern - Computer Science, Physics / vpBcCE8wHJbdTSmOsvjNJudlDzt2\n",
      "77. Data Management  - Buisness administration  / w05SdkJPprgV0NrLhNifEEkDeGw2\n",
      "78. Student - Management science / yUPFkpEsdWR4CfjqcOoWYFcHoiy1\n",
      "79. Sales person - Foreign Language and Literature / ymO4q24tkqWaUrEz5Yy5k9SzSVw2\n",
      "80. Admin Assistant - Library Science / zDcPRgYz0mSj0nq6h9l3LalRYvH3\n"
     ]
    }
   ],
   "source": [
    "occupation_field_of_study = []\n",
    "for p in data:\n",
    "  if 'general_data' in data[p] and data[p]['general_data']['effectively_finished']:\n",
    "    temp = data[p]['general_data']['about_the_participant']\n",
    "      \n",
    "    s = \"\"\n",
    "\n",
    "    if temp['occupation']:\n",
    "      s += temp['occupation']\n",
    "      \n",
    "    if temp['field_of_study']:\n",
    "      s += f\" - {temp['field_of_study']}\"\n",
    "    \n",
    "    if s != '':\n",
    "      occupation_field_of_study.append(s + ' / ' + p)\n",
    "    else:\n",
    "      occupation_field_of_study.append('### submitted blank ###')\n",
    "      \n",
    "for i in range(len(occupation_field_of_study)):\n",
    "  print(f\"{i+1}. {occupation_field_of_study[i]}\")"
   ]
  },
  {
   "cell_type": "code",
   "execution_count": 5,
   "metadata": {},
   "outputs": [
    {
     "name": "stdout",
     "output_type": "stream",
     "text": [
      "{'Bachelor’s or equivalent level': 37, 'Doctor or equivalent level': 4, 'Master’s or equivalent level': 22, 'High school or lower': 16, 'I’d rather not answer this': 1}\n"
     ]
    }
   ],
   "source": [
    "ed = []\n",
    "for p in data:\n",
    "  if 'general_data' in data[p] and data[p]['general_data']['effectively_finished']:\n",
    "    temp = data[p]['general_data']['about_the_participant']['education']\n",
    "    if temp:\n",
    "        ed.append(temp)\n",
    "      \n",
    "fr_ed, _ = count_frequency(ed)\n",
    "print(fr_ed)"
   ]
  },
  {
   "cell_type": "code",
   "execution_count": 6,
   "metadata": {},
   "outputs": [
    {
     "name": "stdout",
     "output_type": "stream",
     "text": [
      "{'45 to 54 years': 5, '25 to 34 years': 34, '35 to 44 years': 12, '54 to 64 years': 2, '18 to 24 years': 27}\n"
     ]
    }
   ],
   "source": [
    "ag = []\n",
    "for p in data:\n",
    "  if 'general_data' in data[p] and data[p]['general_data']['effectively_finished']:\n",
    "    temp = data[p]['general_data']['about_the_participant']['age_group']\n",
    "    if temp:\n",
    "      ag.append(temp)\n",
    "      \n",
    "fr_ag, _ = count_frequency(ag)\n",
    "print(fr_ag)"
   ]
  },
  {
   "cell_type": "code",
   "execution_count": 7,
   "metadata": {},
   "outputs": [
    {
     "name": "stdout",
     "output_type": "stream",
     "text": [
      "{'Feminine': 32, 'Masculine': 44, 'Non-binary': 2, 'I’d rather not answer this': 2}\n"
     ]
    }
   ],
   "source": [
    "\n",
    "ge = []\n",
    "for p in data:\n",
    "  if 'general_data' in data[p] and data[p]['general_data']['effectively_finished']:\n",
    "    temp = data[p]['general_data']['about_the_participant']['gender']\n",
    "    if temp:\n",
    "        ge.append(temp)\n",
    "      \n",
    "fr_ge, _ = count_frequency(ge)\n",
    "print(fr_ge)"
   ]
  },
  {
   "cell_type": "code",
   "execution_count": 8,
   "metadata": {},
   "outputs": [
    {
     "name": "stdout",
     "output_type": "stream",
     "text": [
      "1. This was a fun survey to complete. There is some unusual language/grammar so you may want to have a native English speaker review it.  / 2NvMbAXa8ffC547s9A7GPm19kVZ2\n",
      "\n",
      "2. That was tough! I know about some of these, but the ones I thought I knew may very well be factoids, too.  / 2v9X1JtzJxeNG1Iv9wbME6c6nh12\n",
      "\n",
      "3. so was this about the fonts?\n",
      "some of the questions didn't really fit with the tru/false scheme, as they either contained words like can and may or were subjective statements / 7ARYleq6DlajzbXDsXYGT1jfuIC3\n",
      "\n",
      "4. Not all the sentences made sense, I'm sure that many of them weren't meant to. There was one or two where I thought it might be mistranslation, or non-native English speaker syntax. I am not a native speaker, myself, either, however :) also I have Covid right now / 7zeZfXvJ5TPpsGpikgE3HJjjtWD2\n",
      "\n",
      "5. I feel like its gonna be the structure of the sentences that influences what we think is more likely to be true / 8E9NIKKY6wbjrQOV4FfyDYhX9Di2\n",
      "\n",
      "6. a lot of my answers are based on facts I already know like, I know some sharks cant sleep so I just felt more inclined to pick whales can swim while sleeping because it felt related to a true fact / Bt25QfpcMKPEohFSVBr3TpOyTOJ3\n",
      "\n",
      "7. Some of these are \"actually\" pretty tough! I didn't fact-check statements, so I probably didn't do particularly well... But I feel as though the answer to combat this sort of problem is to teach people how to find the correct answer using credible sources.  / HDSFBV87QtXLd0cyypzXgjwt3y62\n",
      "\n",
      "8. Some of these \"facts\" I already knew the answers to.\n",
      "\n",
      "If the purpose was to gauge believability, it would be better to post two completely untrue facts side-by-side. It was hard to gauge what \"sounds\" true vs. what I knew was actually true. / Hd3IQvoMttPj0HtNgjKGD0SLho13\n",
      "\n",
      "9. Some of those comparisons seemed like both should be true! / LZ0QKkeYx9aql4tEaubln89IOTj2\n",
      "\n",
      "10. interesting / NjCG1CIKqlRz5kUd60OClA7LpFw2\n",
      "\n",
      "11. For most of them I had to resist my urge to Google search to check the facts / OeSL223xn4Rf1GTeHSFytVEuQ9H3\n",
      "\n",
      "12. Some of the statements had slightly confusing grammar. It might be beneficial to have more proofreaders in the future. Loved the trivia facts. / Qns1Mx3f69MSbaBclbk7wtucF9N2\n",
      "\n",
      "13. The language barrier (small grammatical errors in the translation to English — I am a native English speaker) did affect my choices to a small extent; I’m not sure if this was intentional. My problem with many of these statements is that I’d need to see operational definitions of the terms before I could evaluate the veracity. Good luck! / YmRWDsxKj9gOCPuAYsLR0Pantjj1\n",
      "\n",
      "14. I answered these with the assumption (since I didn't read it explicitly) that I was not supposed to check for which was the correct answer, just which one felt more real. / aNJ8qIMiQWNe0tBOJ0kLluEGmPm2\n",
      "\n",
      "15. I wish I knew which ones I got right! Interesting what you were doing with fonts. I feel like I trust serifs more so I was wondering if that was the experiment, so I paid more attention to the sanserifs. I wonder if that ruined my results? Good luck with your project :)  / gscJa3ef4oYVPdpMGUQ0Otb32Uo1\n",
      "\n",
      "16. survey tech is annoying and slow. / mgvVQHCO7SafvbYnqGlKUSzf6Vp1\n",
      "\n",
      "17. Fonts! / nC36Okrom1M64tsMevhvIjwr4uq2\n",
      "\n",
      "18. Found out that I find statements in serif font and in bold seem to be more truthful. Also a bunch of these are hard to choose because I know that both statements were true/ false.  / qVENC4LBj9U9xCblVDNpJAHmVvI2\n",
      "\n",
      "19. Some questions were super obvious such as the planet one I'd obviously false of talking about in existence but possibly true if talking about in galaxy. Almost all needed context / w05SdkJPprgV0NrLhNifEEkDeGw2\n",
      "\n",
      "20. Great / yUPFkpEsdWR4CfjqcOoWYFcHoiy1\n",
      "\n"
     ]
    }
   ],
   "source": [
    "\n",
    "ope = []\n",
    "for p in data:\n",
    "  if 'general_data' in data[p]:\n",
    "    temp = data[p]['general_data']['open_ended_answer']\n",
    "    if temp:\n",
    "      ope.append(temp + ' / ' + p)\n",
    "      \n",
    "for i in range(len(ope)):\n",
    "  print(f\"{i+1}. {ope[i]}\\n\")"
   ]
  },
  {
   "cell_type": "markdown",
   "metadata": {},
   "source": [
    "# Fonts summary"
   ]
  },
  {
   "cell_type": "code",
   "execution_count": 9,
   "metadata": {
    "collapsed": true
   },
   "outputs": [],
   "source": [
    "fonts = {\n",
    "  'Jenson':'Serif',\n",
    "  'Baskerville':'Serif',\n",
    "  'Bodoni':'Serif',\n",
    "  'Clarendon':'Serif',\n",
    "  'Franklin Gothic':'Sans',\n",
    "  'Helvetica':'Sans',\n",
    "  'Scala Sans':'Sans',\n",
    "  'Futura':'Sans',\n",
    "  'Comic Neue':'Script'\n",
    "  }\n",
    "\n",
    "font_names = [\n",
    "  'Jenson',\n",
    "  'Baskerville',\n",
    "  'Bodoni',\n",
    "  'Clarendon',\n",
    "  'Franklin Gothic',\n",
    "  'Helvetica',\n",
    "  'Scala Sans',\n",
    "  'Futura',\n",
    "  'Comic Neue'\n",
    "]"
   ]
  },
  {
   "cell_type": "code",
   "execution_count": 10,
   "metadata": {},
   "outputs": [
    {
     "name": "stdout",
     "output_type": "stream",
     "text": [
      "total answers: 2228\n",
      "\n",
      "\n",
      "{'Clarendon': 247, 'Baskerville': 256, 'Scala Sans': 225, 'Comic Neue': 262, 'Jenson': 232, 'Bodoni': 248, 'Futura': 250, 'Helvetica': 257, 'Franklin Gothic': 251}\n",
      "Clarendon - 11.09\n",
      "Baskerville - 11.49\n",
      "Scala Sans - 10.1\n",
      "Comic Neue - 11.76\n",
      "Jenson - 10.41\n",
      "Bodoni - 11.13\n",
      "Futura - 11.22\n",
      "Helvetica - 11.54\n",
      "Franklin Gothic - 11.27\n",
      "\n",
      "\n",
      "\n",
      "{'Serif': 983, 'Sans': 983, 'Script': 262}\n",
      "Serif - 44.12\n",
      "Sans - 44.12\n",
      "Script - 11.76\n"
     ]
    }
   ],
   "source": [
    "font_frequency = []\n",
    "category_frequency = []\n",
    "c = 0\n",
    "for p in data:\n",
    "  if 'general_data' in data[p] and data[p]['general_data']['effectively_finished']:\n",
    "    for answer in data[p]['answers']:\n",
    "      font_frequency.append(answer['selected_option']['font']['font_family'])\n",
    "      category_frequency.append(fonts[answer['selected_option']['font']['font_family']])\n",
    "      c += 1\n",
    "\n",
    "print(f\"total answers: {c}\\n\\n\")\n",
    "      \n",
    "f_f, _ = count_frequency(font_frequency)\n",
    "print(f_f)\n",
    "\n",
    "for font in f_f:\n",
    "  print(f\"{font} - {round(10000*f_f[font]/c)/100}\")\n",
    "  \n",
    "print(\"\\n\\n\")\n",
    "  \n",
    "cat_f, _ = count_frequency(category_frequency)\n",
    "print(cat_f)\n",
    "\n",
    "for cat in cat_f:\n",
    "  print(f\"{cat} - {round(10000*cat_f[cat]/c)/100}\")"
   ]
  },
  {
   "cell_type": "code",
   "execution_count": 11,
   "metadata": {},
   "outputs": [
    {
     "name": "stdout",
     "output_type": "stream",
     "text": [
      "individual fonts\n",
      "Power_divergenceResult(statistic=4.5978456014362665, pvalue=0.7995660187493749)\n",
      "\n",
      "\n",
      "font categories\n",
      "Power_divergenceResult(statistic=0.9481597845601437, pvalue=0.6224575210305273)\n"
     ]
    }
   ],
   "source": [
    "from scipy.stats import chisquare\n",
    "\n",
    "frequencies = []\n",
    "for font in font_names:\n",
    "  frequencies.append(f_f[font])\n",
    "\n",
    "print(\"individual fonts\")\n",
    "print(chisquare(frequencies))\n",
    "\n",
    "\n",
    "\n",
    "\n",
    "print(\"\\n\\nfont categories\")\n",
    "print(chisquare([cat_f['Serif'], cat_f['Sans'], cat_f['Script']], f_exp=[c*4/9, c*4/9, c*1/9]))\n",
    "\n"
   ]
  }
 ],
 "metadata": {
  "kernelspec": {
   "display_name": "Python 3",
   "language": "python",
   "name": "python3"
  },
  "language_info": {
   "codemirror_mode": {
    "name": "ipython",
    "version": 3
   },
   "file_extension": ".py",
   "mimetype": "text/x-python",
   "name": "python",
   "nbconvert_exporter": "python",
   "pygments_lexer": "ipython3",
   "version": "3.6.2"
  }
 },
 "nbformat": 4,
 "nbformat_minor": 2
}
