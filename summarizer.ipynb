{
 "cells": [
  {
   "cell_type": "code",
   "execution_count": 1,
   "metadata": {},
   "outputs": [],
   "source": [
    "import json\n",
    "\n",
    "f = open('dump.json', 'r')\n",
    "\n",
    "data = json.load(f)['real_data']\n",
    "f.close()\n",
    "\n",
    "del data['Zd6MSPC7S9haRl7Nh0hlqKFr9xN2']"
   ]
  },
  {
   "cell_type": "code",
   "execution_count": 2,
   "metadata": {
    "collapsed": true
   },
   "outputs": [],
   "source": [
    "def count_frequency(my_list):\n",
    "  freq = {}\n",
    "  t = 0\n",
    "\n",
    "  for item in my_list:\n",
    "      if item in freq:\n",
    "          freq[item] += 1\n",
    "      else:\n",
    "          freq[item] = 1\n",
    "      t += 1\n",
    "\n",
    "  return freq, t"
   ]
  },
  {
   "cell_type": "code",
   "execution_count": 3,
   "metadata": {
    "scrolled": false
   },
   "outputs": [
    {
     "name": "stdout",
     "output_type": "stream",
     "text": [
      "33\n"
     ]
    }
   ],
   "source": [
    "effectively_finished = 0\n",
    "for p in data:\n",
    "  if 'general_data' in data[p] and data[p]['general_data']['effectively_finished'] == True:\n",
    "      effectively_finished += 1\n",
    "      \n",
    "print(effectively_finished)"
   ]
  },
  {
   "cell_type": "code",
   "execution_count": 12,
   "metadata": {},
   "outputs": [
    {
     "name": "stdout",
     "output_type": "stream",
     "text": [
      "1. theater director - theater / 2NvMbAXa8ffC547s9A7GPm19kVZ2\n",
      "2. Corporate finance - Economics / 2TjicRWC1xUY3YqtYMcGvbhFKoH2\n",
      "3. none - n/a / 7ARYleq6DlajzbXDsXYGT1jfuIC3\n",
      "4. Support analyst - computer science, internet of things security / 7usjYmyINDa2RkI5mbG7RexRRls1\n",
      "5. Doctoral Student - Science and Technology Studies, electronic medical records / 7vFYoSq1eZXheHWRZOezKKiuBrS2\n",
      "6. Student - Environmental management, entomology / 7zeZfXvJ5TPpsGpikgE3HJjjtWD2\n",
      "7. WORKING + STUDING - PHARMACY / 8E9NIKKY6wbjrQOV4FfyDYhX9Di2\n",
      "8. ### submitted blank ###\n",
      "9. Analyst - Financial Markets / DHY8p6XSbTcEIc9ftQtvjD3MKt33\n",
      "10. ### submitted blank ###\n",
      "11. Cashier - Art, design, programming, web design / FhRXASikXkf4lV7qy0XOBL7X1Og2\n",
      "12. Insurance agent team member - Multiple. Background in molecular and cellular biology; background in animal science; current FOS insurance, auto and home. / HDSFBV87QtXLd0cyypzXgjwt3y62\n",
      "13. Student - Animation / Ijxz343ezRQSirRVmbFIWnr5r992\n",
      "14. Software Engineer - Computer Science, Computer Graphics / KnIHGHUrbEaanAOvnlJOE5Ytovy1\n",
      "15. UX Research Scientist - Computer Science, Human Computer Interaction / OeSL223xn4Rf1GTeHSFytVEuQ9H3\n",
      "16. ### submitted blank ###\n",
      "17. ### submitted blank ###\n",
      "18.  - International Relations / WWvjjezCdXOf4JxebmP3tiA2Z4y1\n",
      "19. ### submitted blank ###\n",
      "20. Teacher who plans to enter academia - Sociology, psychology  / YmRWDsxKj9gOCPuAYsLR0Pantjj1\n",
      "21. Student - Medicine / bRAKbpI5UVWie7ufL5gSOSosSze2\n",
      "22. UX Designer - User experience / dy8IUmib5nPvZVqbBl6F8vCxPtI2\n",
      "23. ### submitted blank ###\n",
      "24. Student - English Education/TESOL / fGIoovOZ8CQKlUGkCOqc9aoggfH3\n",
      "25. Manager software development - Applied mathematics & business engineering / h4GA0lr10bR6c92n0JVJcbengX42\n",
      "26. Student - Packaging Science / kDq5U2M4fYhozDTZljAbWRc58R03\n",
      "27. Student - Materials engineering  / kanuvW2qUnTSjR8pQxBDBlnHcaa2\n",
      "28. Substitute Teacher - Media Arts, Philosophy, Bible, Rhetoric / pQ4EmdfDSsU57km5X54a0Geta672\n",
      "29. ### submitted blank ###\n",
      "30.  - Design/editing for an archeological consultant firm / peJf6fQASjSzOzFXuO6L7m5QoLa2\n",
      "31. Student - Biochemistry / upQqHlxpUpO0RoVIWwQ1ZSjbSVt2\n",
      "32. Data Management  - Buisness administration  / w05SdkJPprgV0NrLhNifEEkDeGw2\n",
      "33. Admin Assistant - Library Science / zDcPRgYz0mSj0nq6h9l3LalRYvH3\n"
     ]
    }
   ],
   "source": [
    "occupation_field_of_study = []\n",
    "for p in data:\n",
    "  if 'general_data' in data[p] and data[p]['general_data']['effectively_finished']:\n",
    "    temp = data[p]['general_data']['about_the_participant']\n",
    "      \n",
    "    s = \"\"\n",
    "\n",
    "    if temp['occupation']:\n",
    "      s += temp['occupation']\n",
    "      \n",
    "    if temp['field_of_study']:\n",
    "      s += f\" - {temp['field_of_study']}\"\n",
    "    \n",
    "    if s != '':\n",
    "      occupation_field_of_study.append(s + ' / ' + p)\n",
    "    else:\n",
    "      occupation_field_of_study.append('### submitted blank ###')\n",
    "      \n",
    "for i in range(len(occupation_field_of_study)):\n",
    "  print(f\"{i+1}. {occupation_field_of_study[i]}\")"
   ]
  },
  {
   "cell_type": "code",
   "execution_count": 5,
   "metadata": {},
   "outputs": [
    {
     "name": "stdout",
     "output_type": "stream",
     "text": [
      "{'Bachelor’s or equivalent level': 15, 'High school or lower': 5, 'Master’s or equivalent level': 12, 'Doctor or equivalent level': 1}\n"
     ]
    }
   ],
   "source": [
    "ed = []\n",
    "for p in data:\n",
    "  if 'general_data' in data[p] and data[p]['general_data']['effectively_finished']:\n",
    "    temp = data[p]['general_data']['about_the_participant']['education']\n",
    "    if temp:\n",
    "        ed.append(temp)\n",
    "      \n",
    "fr_ed, _ = count_frequency(ed)\n",
    "print(fr_ed)"
   ]
  },
  {
   "cell_type": "code",
   "execution_count": 6,
   "metadata": {},
   "outputs": [
    {
     "name": "stdout",
     "output_type": "stream",
     "text": [
      "{'45 to 54 years': 3, '25 to 34 years': 16, '35 to 44 years': 5, '18 to 24 years': 8, '54 to 64 years': 1}\n"
     ]
    }
   ],
   "source": [
    "ag = []\n",
    "for p in data:\n",
    "  if 'general_data' in data[p] and data[p]['general_data']['effectively_finished']:\n",
    "    temp = data[p]['general_data']['about_the_participant']['age_group']\n",
    "    if temp:\n",
    "      ag.append(temp)\n",
    "      \n",
    "fr_ag, _ = count_frequency(ag)\n",
    "print(fr_ag)"
   ]
  },
  {
   "cell_type": "code",
   "execution_count": 7,
   "metadata": {},
   "outputs": [
    {
     "name": "stdout",
     "output_type": "stream",
     "text": [
      "{'Feminine': 15, 'Masculine': 17, 'Non-binary': 1}\n"
     ]
    }
   ],
   "source": [
    "\n",
    "ge = []\n",
    "for p in data:\n",
    "  if 'general_data' in data[p] and data[p]['general_data']['effectively_finished']:\n",
    "    temp = data[p]['general_data']['about_the_participant']['gender']\n",
    "    if temp:\n",
    "        ge.append(temp)\n",
    "      \n",
    "fr_ge, _ = count_frequency(ge)\n",
    "print(fr_ge)"
   ]
  },
  {
   "cell_type": "code",
   "execution_count": 13,
   "metadata": {},
   "outputs": [
    {
     "name": "stdout",
     "output_type": "stream",
     "text": [
      "1. This was a fun survey to complete. There is some unusual language/grammar so you may want to have a native English speaker review it.  / 2NvMbAXa8ffC547s9A7GPm19kVZ2\n",
      "\n",
      "2. so was this about the fonts?\n",
      "some of the questions didn't really fit with the tru/false scheme, as they either contained words like can and may or were subjective statements / 7ARYleq6DlajzbXDsXYGT1jfuIC3\n",
      "\n",
      "3. Not all the sentences made sense, I'm sure that many of them weren't meant to. There was one or two where I thought it might be mistranslation, or non-native English speaker syntax. I am not a native speaker, myself, either, however :) also I have Covid right now / 7zeZfXvJ5TPpsGpikgE3HJjjtWD2\n",
      "\n",
      "4. I feel like its gonna be the structure of the sentences that influences what we think is more likely to be true / 8E9NIKKY6wbjrQOV4FfyDYhX9Di2\n",
      "\n",
      "5. Some of these are \"actually\" pretty tough! I didn't fact-check statements, so I probably didn't do particularly well... But I feel as though the answer to combat this sort of problem is to teach people how to find the correct answer using credible sources.  / HDSFBV87QtXLd0cyypzXgjwt3y62\n",
      "\n",
      "6. For most of them I had to resist my urge to Google search to check the facts / OeSL223xn4Rf1GTeHSFytVEuQ9H3\n",
      "\n",
      "7. The language barrier (small grammatical errors in the translation to English — I am a native English speaker) did affect my choices to a small extent; I’m not sure if this was intentional. My problem with many of these statements is that I’d need to see operational definitions of the terms before I could evaluate the veracity. Good luck! / YmRWDsxKj9gOCPuAYsLR0Pantjj1\n",
      "\n",
      "8. Some questions were super obvious such as the planet one I'd obviously false of talking about in existence but possibly true if talking about in galaxy. Almost all needed context / w05SdkJPprgV0NrLhNifEEkDeGw2\n",
      "\n"
     ]
    }
   ],
   "source": [
    "\n",
    "ope = []\n",
    "for p in data:\n",
    "  if 'general_data' in data[p]:\n",
    "    temp = data[p]['general_data']['open_ended_answer']\n",
    "    if temp:\n",
    "      ope.append(temp + ' / ' + p)\n",
    "      \n",
    "for i in range(len(ope)):\n",
    "  print(f\"{i+1}. {ope[i]}\\n\")"
   ]
  },
  {
   "cell_type": "markdown",
   "metadata": {},
   "source": [
    "# Fonts summary"
   ]
  },
  {
   "cell_type": "code",
   "execution_count": 9,
   "metadata": {
    "collapsed": true
   },
   "outputs": [],
   "source": [
    "fonts = {\n",
    "  'Jenson':'Serif',\n",
    "  'Baskerville':'Serif',\n",
    "  'Bodoni':'Serif',\n",
    "  'Clarendon':'Serif',\n",
    "  'Franklin Gothic':'Sans',\n",
    "  'Helvetica':'Sans',\n",
    "  'Scala Sans':'Sans',\n",
    "  'Futura':'Sans',\n",
    "  'Comic Neue':'Script'\n",
    "  }\n",
    "\n",
    "font_names = [\n",
    "  'Jenson',\n",
    "  'Baskerville',\n",
    "  'Bodoni',\n",
    "  'Clarendon',\n",
    "  'Franklin Gothic',\n",
    "  'Helvetica',\n",
    "  'Scala Sans',\n",
    "  'Futura',\n",
    "  'Comic Neue'\n",
    "]"
   ]
  },
  {
   "cell_type": "code",
   "execution_count": 10,
   "metadata": {},
   "outputs": [
    {
     "name": "stdout",
     "output_type": "stream",
     "text": [
      "{'Clarendon': 112, 'Baskerville': 104, 'Scala Sans': 93, 'Comic Neue': 108, 'Jenson': 100, 'Bodoni': 100, 'Futura': 91, 'Helvetica': 108, 'Franklin Gothic': 103}\n",
      "Clarendon - 12.19\n",
      "Baskerville - 11.32\n",
      "Scala Sans - 10.12\n",
      "Comic Neue - 11.75\n",
      "Jenson - 10.88\n",
      "Bodoni - 10.88\n",
      "Futura - 9.9\n",
      "Helvetica - 11.75\n",
      "Franklin Gothic - 11.21\n",
      "\n",
      "\n",
      "\n",
      "{'Serif': 416, 'Sans': 395, 'Script': 108}\n",
      "Serif - 45.27\n",
      "Sans - 42.98\n",
      "Script - 11.75\n"
     ]
    }
   ],
   "source": [
    "font_frequency = []\n",
    "category_frequency = []\n",
    "c = 0\n",
    "for p in data:\n",
    "  if 'general_data' in data[p] and data[p]['general_data']['effectively_finished']:\n",
    "    for answer in data[p]['answers']:\n",
    "      font_frequency.append(answer['selected_option']['font']['font_family'])\n",
    "      category_frequency.append(fonts[answer['selected_option']['font']['font_family']])\n",
    "      c += 1\n",
    "      \n",
    "f_f, _ = count_frequency(font_frequency)\n",
    "print(f_f)\n",
    "\n",
    "for font in f_f:\n",
    "  print(f\"{font} - {round(10000*f_f[font]/c)/100}\")\n",
    "  \n",
    "print(\"\\n\\n\")\n",
    "  \n",
    "cat_f, _ = count_frequency(category_frequency)\n",
    "print(cat_f)\n",
    "\n",
    "for cat in cat_f:\n",
    "  print(f\"{cat} - {round(10000*cat_f[cat]/c)/100}\")"
   ]
  },
  {
   "cell_type": "code",
   "execution_count": 11,
   "metadata": {},
   "outputs": [
    {
     "name": "stdout",
     "output_type": "stream",
     "text": [
      "individual fonts\n",
      "Power_divergenceResult(statistic=3.788900979325353, pvalue=0.8756495522106311)\n",
      "\n",
      "\n",
      "font categories\n",
      "Power_divergenceResult(statistic=0.9219260065288357, pvalue=0.6306760099200149)\n"
     ]
    }
   ],
   "source": [
    "from scipy.stats import chisquare\n",
    "\n",
    "frequencies = []\n",
    "for font in font_names:\n",
    "  frequencies.append(f_f[font])\n",
    "\n",
    "print(\"individual fonts\")\n",
    "print(chisquare(frequencies))\n",
    "\n",
    "\n",
    "\n",
    "\n",
    "print(\"\\n\\nfont categories\")\n",
    "print(chisquare([cat_f['Serif'], cat_f['Sans'], cat_f['Script']], f_exp=[c*4/9, c*4/9, c*1/9]))\n",
    "\n"
   ]
  }
 ],
 "metadata": {
  "kernelspec": {
   "display_name": "Python 3",
   "language": "python",
   "name": "python3"
  },
  "language_info": {
   "codemirror_mode": {
    "name": "ipython",
    "version": 3
   },
   "file_extension": ".py",
   "mimetype": "text/x-python",
   "name": "python",
   "nbconvert_exporter": "python",
   "pygments_lexer": "ipython3",
   "version": "3.6.2"
  }
 },
 "nbformat": 4,
 "nbformat_minor": 2
}
