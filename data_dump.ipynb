{
 "cells": [
  {
   "cell_type": "code",
   "execution_count": 1,
   "metadata": {
    "collapsed": true
   },
   "outputs": [],
   "source": [
    "import firebase_admin\n",
    "from firebase_admin import credentials, firestore\n",
    "\n",
    "if not firebase_admin._apps:\n",
    "  cred = credentials.Certificate('./hcin600-p3-firebase-adminsdk-jze7y-eaca307c9f.json')\n",
    "  default_app = firebase_admin.initialize_app(cred, {\n",
    "    'databaseURL': 'https://hcin600-p3-default-rtdb.firebaseio.com/'\n",
    "  })"
   ]
  },
  {
   "cell_type": "code",
   "execution_count": 2,
   "metadata": {
    "collapsed": true
   },
   "outputs": [],
   "source": [
    "db = firebase_admin.firestore.client()"
   ]
  },
  {
   "cell_type": "code",
   "execution_count": 3,
   "metadata": {
    "collapsed": true
   },
   "outputs": [],
   "source": [
    "# add your collections manually\n",
    "collection_names = ['real_data']\n",
    "collections = dict()\n",
    "dict4json = dict()\n",
    "n_documents = 0"
   ]
  },
  {
   "cell_type": "code",
   "execution_count": 4,
   "metadata": {
    "collapsed": true
   },
   "outputs": [],
   "source": [
    "for collection in collection_names:\n",
    "    collections[collection] = db.collection(collection).get()\n",
    "    dict4json[collection] = {}\n",
    "    for document in collections[collection]:\n",
    "        docdict = document.to_dict()\n",
    "        dict4json[collection][document.id] = docdict\n",
    "        n_documents += 1"
   ]
  },
  {
   "cell_type": "code",
   "execution_count": 5,
   "metadata": {},
   "outputs": [
    {
     "name": "stdout",
     "output_type": "stream",
     "text": [
      "Downloaded 1 collections, 217 documents and now writing 5952484 json characters to ./dump.json\n"
     ]
    }
   ],
   "source": [
    "import json\n",
    "\n",
    "jsonfromdict = json.dumps(dict4json, indent=4, sort_keys=True, default=str)\n",
    "path_filename = \"./dump.json\"\n",
    "print(f\"Downloaded {len(collection_names)} collections, {n_documents} documents and now writing {len(jsonfromdict)} json characters to {path_filename}\")\n",
    "with open(path_filename, 'w') as the_file:\n",
    "    the_file.write(jsonfromdict)"
   ]
  }
 ],
 "metadata": {
  "kernelspec": {
   "display_name": "Python 3",
   "language": "python",
   "name": "python3"
  },
  "language_info": {
   "codemirror_mode": {
    "name": "ipython",
    "version": 3
   },
   "file_extension": ".py",
   "mimetype": "text/x-python",
   "name": "python",
   "nbconvert_exporter": "python",
   "pygments_lexer": "ipython3",
   "version": "3.6.2"
  }
 },
 "nbformat": 4,
 "nbformat_minor": 2
}
