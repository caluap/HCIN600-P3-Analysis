{
 "cells": [
  {
   "cell_type": "code",
   "execution_count": 1,
   "metadata": {},
   "outputs": [
    {
     "name": "stdout",
     "output_type": "stream",
     "text": [
      "Requirement already satisfied: trueskill in /Library/Frameworks/Python.framework/Versions/3.6/lib/python3.6/site-packages (0.4.5)\n",
      "Requirement already satisfied: six in /Library/Frameworks/Python.framework/Versions/3.6/lib/python3.6/site-packages (from trueskill) (1.15.0)\n",
      "\u001b[33mWARNING: You are using pip version 19.3.1; however, version 21.3.1 is available.\n",
      "You should consider upgrading via the 'pip install --upgrade pip' command.\u001b[0m\n"
     ]
    }
   ],
   "source": [
    "# Install a pip package in the current Jupyter kernel\n",
    "import sys\n",
    "!{sys.executable} -m pip install trueskill"
   ]
  },
  {
   "cell_type": "code",
   "execution_count": 2,
   "metadata": {
    "collapsed": true
   },
   "outputs": [],
   "source": [
    "import trueskill\n",
    "import json\n",
    "\n",
    "f = open('dump.json', 'r')\n",
    "\n",
    "data = json.load(f)['real_data']\n",
    "f.close()\n",
    "\n",
    "del data['Zd6MSPC7S9haRl7Nh0hlqKFr9xN2']"
   ]
  },
  {
   "cell_type": "code",
   "execution_count": 3,
   "metadata": {
    "collapsed": true
   },
   "outputs": [],
   "source": [
    "font_names = [\n",
    "  'Jenson',\n",
    "  'Baskerville',\n",
    "  'Bodoni',\n",
    "  'Clarendon',\n",
    "  'Franklin Gothic',\n",
    "  'Helvetica',\n",
    "  'Scala Sans',\n",
    "  'Futura',\n",
    "  'Comic Neue'\n",
    "]"
   ]
  },
  {
   "cell_type": "code",
   "execution_count": 4,
   "metadata": {},
   "outputs": [],
   "source": [
    "matches = []\n",
    "for p in data:\n",
    "  if 'general_data' in data[p] and data[p]['general_data']['effectively_finished']:\n",
    "    for answer in data[p]['answers']:\n",
    "      op1 = answer[\"option0\"][\"i_font\"]\n",
    "      op2 = answer[\"option1\"][\"i_font\"]\n",
    "      if answer[\"selected_option\"][\"i_font\"] == op1:\n",
    "        matches.append((op1,op2))\n",
    "      else:\n",
    "        matches.append((op2,op1))"
   ]
  },
  {
   "cell_type": "code",
   "execution_count": 5,
   "metadata": {},
   "outputs": [
    {
     "name": "stdout",
     "output_type": "stream",
     "text": [
      "initial rating for Jenson: trueskill.Rating(mu=25.000, sigma=8.333)\n",
      "initial rating for Baskerville: trueskill.Rating(mu=25.000, sigma=8.333)\n",
      "initial rating for Bodoni: trueskill.Rating(mu=25.000, sigma=8.333)\n",
      "initial rating for Clarendon: trueskill.Rating(mu=25.000, sigma=8.333)\n",
      "initial rating for Franklin Gothic: trueskill.Rating(mu=25.000, sigma=8.333)\n",
      "initial rating for Helvetica: trueskill.Rating(mu=25.000, sigma=8.333)\n",
      "initial rating for Scala Sans: trueskill.Rating(mu=25.000, sigma=8.333)\n",
      "initial rating for Futura: trueskill.Rating(mu=25.000, sigma=8.333)\n",
      "initial rating for Comic Neue: trueskill.Rating(mu=25.000, sigma=8.333)\n"
     ]
    }
   ],
   "source": [
    "font_players = []\n",
    "\n",
    "for i in range(len(font_names)):\n",
    "  p = trueskill.Rating()\n",
    "\n",
    "  print(f\"initial rating for {font_names[i]}: {p}\")\n",
    "  font_players.append(p)"
   ]
  },
  {
   "cell_type": "code",
   "execution_count": 6,
   "metadata": {
    "collapsed": true
   },
   "outputs": [],
   "source": [
    "for i in range(len(matches)):\n",
    "  p0_i = matches[i][0]\n",
    "  p1_i = matches[i][1]\n",
    "  font_players[p0_i], font_players[p1_i] = trueskill.rate_1vs1(font_players[p0_i], font_players[p1_i])"
   ]
  },
  {
   "cell_type": "code",
   "execution_count": 7,
   "metadata": {},
   "outputs": [
    {
     "name": "stdout",
     "output_type": "stream",
     "text": [
      "final rating for ‘Jenson’: trueskill.Rating(mu=24.699, sigma=0.780)\n",
      "final rating for ‘Baskerville’: trueskill.Rating(mu=24.478, sigma=0.780)\n",
      "final rating for ‘Bodoni’: trueskill.Rating(mu=24.412, sigma=0.779)\n",
      "final rating for ‘Clarendon’: trueskill.Rating(mu=24.320, sigma=0.779)\n",
      "final rating for ‘Franklin Gothic’: trueskill.Rating(mu=23.859, sigma=0.779)\n",
      "final rating for ‘Helvetica’: trueskill.Rating(mu=23.802, sigma=0.779)\n",
      "final rating for ‘Scala Sans’: trueskill.Rating(mu=23.443, sigma=0.779)\n",
      "final rating for ‘Futura’: trueskill.Rating(mu=23.341, sigma=0.779)\n",
      "final rating for ‘Comic Neue’: trueskill.Rating(mu=23.309, sigma=0.779)\n"
     ]
    }
   ],
   "source": [
    "font_players.sort(key=lambda x: x.mu, reverse=True)\n",
    "\n",
    "\n",
    "# this is wrong! \n",
    "for i in range(len(font_players)):  \n",
    "  print(f\"final rating for ‘{font_names[i]}’: {font_players[i]}\")"
   ]
  },
  {
   "cell_type": "markdown",
   "metadata": {},
   "source": [
    "## Let's shuffle"
   ]
  },
  {
   "cell_type": "code",
   "execution_count": 8,
   "metadata": {},
   "outputs": [],
   "source": [
    "def init_player_rankings(n = len(font_names)):\n",
    "  temp_rankings = []\n",
    "\n",
    "  for i in range(n):\n",
    "    p = trueskill.Rating()\n",
    "    temp_rankings.append(p)\n",
    "\n",
    "  return temp_rankings"
   ]
  },
  {
   "cell_type": "code",
   "execution_count": 9,
   "metadata": {
    "collapsed": true
   },
   "outputs": [],
   "source": [
    "import random\n",
    "from statistics import stdev, mean\n",
    "\n",
    "def shuffle(data, n_players, n_shuffles=150):\n",
    "  p_list = []\n",
    "  stdevs = [[],[]]\n",
    "  \n",
    "  \n",
    "\n",
    "  for i in range(n_shuffles):\n",
    "      random.shuffle(data)\n",
    "      temp_players = init_player_rankings(n_players)\n",
    "      for j in range(len(data)):\n",
    "        p0_i = data[j][0]\n",
    "        p1_i = data[j][1]\n",
    "        temp_players[p0_i], temp_players[p1_i] = trueskill.rate_1vs1(temp_players[p0_i], temp_players[p1_i])\n",
    "\n",
    "      p_list.append(temp_players) \n",
    "\n",
    "      if i > 0:\n",
    "        temp_p = []\n",
    "\n",
    "        # calculates the std dev of each ranking so far\n",
    "        for k in range(n_players):\n",
    "          temp_p.append(stdev([p_list[j][k].mu for j in range(i+1)]))\n",
    "\n",
    "        stdevs[0].append(i)\n",
    "        stdevs[1].append(stdev(temp_p))\n",
    "\n",
    "  return p_list, stdevs\n"
   ]
  },
  {
   "cell_type": "code",
   "execution_count": 10,
   "metadata": {
    "collapsed": true
   },
   "outputs": [],
   "source": [
    "p_list, stdevs = shuffle(matches, len(font_names), 150)"
   ]
  },
  {
   "cell_type": "code",
   "execution_count": 11,
   "metadata": {},
   "outputs": [
    {
     "data": {
      "image/png": "[encoded data removed]",
      "text/plain": [
       "<matplotlib.figure.Figure at 0x109be55c0>"
      ]
     },
     "metadata": {},
     "output_type": "display_data"
    }
   ],
   "source": [
    "%matplotlib inline\n",
    "\n",
    "import matplotlib.pyplot as plt\n",
    "\n",
    "plt.plot(stdevs[0],stdevs[1])\n",
    "plt.ylabel('std dev of std devs')\n",
    "plt.xlabel('rounds')\n",
    "plt.show()"
   ]
  },
  {
   "cell_type": "code",
   "execution_count": 12,
   "metadata": {},
   "outputs": [
    {
     "name": "stdout",
     "output_type": "stream",
     "text": [
      "[24.906020872514453, 25.503070286220712, 25.174565631762597, 25.247375175923775, 24.99606953117153, 24.884575117589936, 24.843482829471593, 24.88522605301563, 25.050498836601054]\n",
      "[0.7792203230331294, 0.7796690172813946, 0.7789946871912247, 0.7793102531157279, 0.7790623192465881, 0.7790931133480742, 0.7794519390070064, 0.779003899874915, 0.7790442713700494]\n"
     ]
    }
   ],
   "source": [
    "\n",
    "from statistics import mean\n",
    "\n",
    "avg_mus = []\n",
    "avg_sigmas = []\n",
    "for i in range(len(font_names)):\n",
    "  avg_mus.append(mean([p_list[j][i].mu for j in range(len(p_list))]))  \n",
    "  avg_sigmas.append(mean([p_list[j][i].sigma for j in range(len(p_list))]))\n",
    "  \n",
    "print(avg_mus)\n",
    "print(avg_sigmas)"
   ]
  },
  {
   "cell_type": "code",
   "execution_count": 13,
   "metadata": {},
   "outputs": [
    {
     "name": "stdout",
     "output_type": "stream",
     "text": [
      "{'font': 'Baskerville', 'mu': 25.503070286220712, 'sigma': 0.7796690172813946}\n",
      "{'font': 'Clarendon', 'mu': 25.247375175923775, 'sigma': 0.7793102531157279}\n",
      "{'font': 'Bodoni', 'mu': 25.174565631762597, 'sigma': 0.7789946871912247}\n",
      "{'font': 'Comic Neue', 'mu': 25.050498836601054, 'sigma': 0.7790442713700494}\n",
      "{'font': 'Franklin Gothic', 'mu': 24.99606953117153, 'sigma': 0.7790623192465881}\n",
      "{'font': 'Jenson', 'mu': 24.906020872514453, 'sigma': 0.7792203230331294}\n",
      "{'font': 'Futura', 'mu': 24.88522605301563, 'sigma': 0.779003899874915}\n",
      "{'font': 'Helvetica', 'mu': 24.884575117589936, 'sigma': 0.7790931133480742}\n",
      "{'font': 'Scala Sans', 'mu': 24.843482829471593, 'sigma': 0.7794519390070064}\n"
     ]
    }
   ],
   "source": [
    "rebuilt_ranking = []\n",
    "for i in range(len(font_names)):\n",
    "  rebuilt_ranking.append({\n",
    "      'font': font_names[i],\n",
    "      'mu': avg_mus[i],\n",
    "      'sigma': avg_sigmas[i]\n",
    "    })\n",
    "\n",
    "rebuilt_ranking.sort(key=lambda x: x['mu'], reverse=True)\n",
    "for i in range(len(font_names)):\n",
    "  print(rebuilt_ranking[i])"
   ]
  },
  {
   "cell_type": "code",
   "execution_count": 14,
   "metadata": {
    "collapsed": true
   },
   "outputs": [],
   "source": [
    "path = 'rankings.json'\n",
    "\n",
    "with open(path, 'w') as outfile:\n",
    "    json.dump(rebuilt_ranking, outfile)"
   ]
  }
 ],
 "metadata": {
  "kernelspec": {
   "display_name": "Python 3",
   "language": "python",
   "name": "python3"
  },
  "language_info": {
   "codemirror_mode": {
    "name": "ipython",
    "version": 3
   },
   "file_extension": ".py",
   "mimetype": "text/x-python",
   "name": "python",
   "nbconvert_exporter": "python",
   "pygments_lexer": "ipython3",
   "version": "3.6.2"
  }
 },
 "nbformat": 4,
 "nbformat_minor": 2
}
